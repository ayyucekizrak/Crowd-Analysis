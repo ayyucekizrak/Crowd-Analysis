{
 "cells": [
  {
   "cell_type": "code",
   "execution_count": null,
   "metadata": {},
   "outputs": [],
   "source": [
    "# Arda Mavi\n",
    "import os\n",
    "from keras.models import Model\n",
    "from keras.layers import Input, Conv2D, ZeroPadding2D, MaxPooling2D, AveragePooling2D, concatenate"
   ]
  },
  {
   "cell_type": "code",
   "execution_count": null,
   "metadata": {
    "collapsed": true
   },
   "outputs": [],
   "source": [
    "def save_model(model):\n",
    "    if not os.path.exists('Data/Model/'):\n",
    "        os.makedirs('Data/Model/')\n",
    "    model_json = model.to_json()\n",
    "    with open(\"Data/Model/model.json\", \"w\") as model_file:\n",
    "        model_file.write(model_json)\n",
    "    model.save_weights(\"Data/Model/weights.h5\")\n",
    "    print('Model and weights saved')\n",
    "    return"
   ]
  },
  {
   "cell_type": "code",
   "execution_count": null,
   "metadata": {},
   "outputs": [],
   "source": [
    "def get_model():\n",
    "\n",
    "    inputs = Input(shape=(225, 225, 3))\n",
    "\n",
    "    # 1:\n",
    "    conv_1 = Conv2D(64, (3,3), strides=(1,1), padding='same', activation='relu')(inputs)\n",
    "    conv_2 = Conv2D(64, (3,3), strides=(1,1), padding='same', activation='relu')(conv_1)\n",
    "    pool_1 = MaxPooling2D(pool_size=(2, 2), strides=(2, 2))(conv_2)\n",
    "\n",
    "    conv_3 = Conv2D(128, (3,3), strides=(1,1), padding='same', activation='relu')(pool_1)\n",
    "    conv_4 = Conv2D(128, (3,3), strides=(1,1), padding='same', activation='relu')(conv_3)\n",
    "    pool_2 = MaxPooling2D(pool_size=(2, 2), strides=(2, 2))(conv_4)\n",
    "\n",
    "    conv_5 = Conv2D(256, (3,3), strides=(1,1), padding='same', activation='relu')(pool_2)\n",
    "    conv_6 = Conv2D(256, (3,3), strides=(1,1), padding='same', activation='relu')(conv_5)\n",
    "    conv_7 = Conv2D(256, (3,3), strides=(1,1), padding='same', activation='relu')(conv_6)\n",
    "    pool_3 = MaxPooling2D(pool_size=(2, 2), strides=(2, 2))(conv_7)\n",
    "\n",
    "    conv_8 = Conv2D(512, (3,3), strides=(1,1), padding='same', activation='relu')(pool_3)\n",
    "    conv_9 = Conv2D(512, (3,3), strides=(1,1), padding='same', activation='relu')(conv_8)\n",
    "    conv_10 = Conv2D(512, (3,3), strides=(1,1), padding='same', activation='relu')(conv_9)\n",
    "    pool_4 = MaxPooling2D(pool_size=(2, 2), strides=(1, 1))(conv_10)\n",
    "\n",
    "    conv_11 = Conv2D(512, (3,3), strides=(2,2), padding='same', activation='relu')(pool_4)\n",
    "    conv_12 = Conv2D(512, (3,3), strides=(2,2), padding='same', activation='relu')(conv_11)\n",
    "    conv_13 = Conv2D(512, (3,3), strides=(2,2), padding='same', activation='relu')(conv_12)\n",
    "\n",
    "    # 2:\n",
    "    padding_1 = ZeroPadding2D(padding=(1, 1))(inputs)\n",
    "    sw_conv_1 = Conv2D(24, (5,5), strides=(1,1), padding='same', activation='relu')(padding_1)\n",
    "    sw_pool_1 = AveragePooling2D(pool_size=(5, 5), strides=(2, 2))(sw_conv_1)\n",
    "\n",
    "    padding_2 = ZeroPadding2D(padding=(3, 3))(sw_pool_1)\n",
    "    sw_conv_2 = Conv2D(24, (5,5), strides=(2,2), padding='same', activation='relu')(padding_2)\n",
    "    sw_pool_2 = AveragePooling2D(pool_size=(5, 5), strides=(2, 2))(sw_conv_2)\n",
    "\n",
    "    sw_conv_3 = Conv2D(24, (5,5), strides=(2,2), padding='same', activation='relu')(sw_pool_2)\n",
    "    sw_pool_3 = AveragePooling2D(pool_size=(5, 5), strides=(2, 2))(sw_conv_3)\n",
    "\n",
    "    #merge_1 = concatenate([conv_13, sw_pool_3])\n",
    "\n",
    "    #conv_out = Conv2D(1, (1,1), strides=(1,1), activation='sigmoid')(merge_1)\n",
    "\n",
    "    model = Model(inputs=inputs, outputs=conv_13)\n",
    "\n",
    "    model.compile(loss='mean_absolute_error', optimizer='SGD', metrics=['accuracy'])\n",
    "\n",
    "    print(model.summary())\n",
    "\n",
    "    return model\n",
    "get_model()"
   ]
  }
 ],
 "metadata": {
  "kernelspec": {
   "display_name": "Python 3",
   "language": "python",
   "name": "python3"
  },
  "language_info": {
   "codemirror_mode": {
    "name": "ipython",
    "version": 3
   },
   "file_extension": ".py",
   "mimetype": "text/x-python",
   "name": "python",
   "nbconvert_exporter": "python",
   "pygments_lexer": "ipython3",
   "version": "3.6.0"
  }
 },
 "nbformat": 4,
 "nbformat_minor": 2
}
